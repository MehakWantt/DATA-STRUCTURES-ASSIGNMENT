{
  "nbformat": 4,
  "nbformat_minor": 0,
  "metadata": {
    "colab": {
      "provenance": []
    },
    "kernelspec": {
      "name": "python3",
      "display_name": "Python 3"
    },
    "language_info": {
      "name": "python"
    }
  },
  "cells": [
    {
      "cell_type": "code",
      "execution_count": null,
      "metadata": {
        "id": "p-lPvQnIUOZi"
      },
      "outputs": [],
      "source": []
    },
    {
      "cell_type": "markdown",
      "source": [
        "## ***THEORITICAL QUESTIONS***\n"
      ],
      "metadata": {
        "id": "aG9l_3LyURVp"
      }
    },
    {
      "cell_type": "markdown",
      "source": [
        "Q1.What are data structures, and why are they important?\n",
        "\n",
        "ANS. Data structures are ways of organizing and storing data so that it can be accessed and manipulated efficiently.\n",
        "\n",
        "These are important because they optimize data storage and retrieval, making it more efficient.\n",
        "\n",
        "Example: Lists, string, Tuples etc"
      ],
      "metadata": {
        "id": "HeHEfWnrUjdd"
      }
    },
    {
      "cell_type": "markdown",
      "source": [
        "Q2. Explain the difference between mutable and immutable data types with examples\n",
        "\n",
        "ANS.\n",
        "MUTABLE DATA TYPES: These can be changed after creation.\n",
        "eg: Lists\n",
        "\n",
        "IMMUTABLE DATA TYPES: These cannot be changed after creation.\n",
        "eg: Tuples"
      ],
      "metadata": {
        "id": "AAi1xFXWWalD"
      }
    },
    {
      "cell_type": "markdown",
      "source": [
        "Q3. What are the main differences between lists and tuples in Python?\n",
        "\n",
        "ANS. Lists are mutable while tuples are immutable.\n",
        "\n",
        "Elements in lists can be accessed while in tuples elements cannot be accessed."
      ],
      "metadata": {
        "id": "lSNhw83pW6Pg"
      }
    },
    {
      "cell_type": "markdown",
      "source": [
        "Q4.  Describe how dictionaries store data\n",
        "\n",
        "ANS. Dictionaries store data as key-value pairs. Keys are hashed to compute an index in memory, and values are stored at that index, allowing for fast retrieval."
      ],
      "metadata": {
        "id": "1me-yopUX5Ph"
      }
    },
    {
      "cell_type": "markdown",
      "source": [
        "Q5.  Why might you use a set instead of a list in Python?\n",
        "\n",
        "ANS. Sets are used when duplicate values are not allowed."
      ],
      "metadata": {
        "id": "r1DJLyVHYF7M"
      }
    },
    {
      "cell_type": "markdown",
      "source": [
        "Q6. What is a string in Python, and how is it different from a list\n",
        "\n",
        "ANS. A string is an immutable sequence of characters. Unlike lists, strings cannot have their elements modified.\n",
        "\n",
        "Lists can hold any data type, while strings only hold characters."
      ],
      "metadata": {
        "id": "IA92VnYpYmej"
      }
    },
    {
      "cell_type": "markdown",
      "source": [
        "Q7. How do tuples ensure data integrity in Python?\n",
        "\n",
        "ANS. Tuples are immutable, means their elements cannot be altered after creation. This ensures data stored in them remains unchanged, making them useful for fixed datasets."
      ],
      "metadata": {
        "id": "PmrdpiNHbMcQ"
      }
    },
    {
      "cell_type": "markdown",
      "source": [
        "Q8.  What is a hash table, and how does it relate to dictionaries in Python?\n",
        "\n",
        "ANS. A hash table is a data structure that maps keys to values using a hash function. Python dictionaries use hash tables to store and retrieve key-value pairs efficiently."
      ],
      "metadata": {
        "id": "eaNL2_UfbqJN"
      }
    },
    {
      "cell_type": "markdown",
      "source": [
        "Q9.  Can lists contain different data types in Python?\n",
        "\n",
        "ANS. Yes, lists can hold heterogenous data type.\n",
        "\n",
        "eg. [1, \"hello\", 1.14,]"
      ],
      "metadata": {
        "id": "YH04teQab7zp"
      }
    },
    {
      "cell_type": "markdown",
      "source": [
        "Q10. Explain why strings are immutable in Python.\n",
        "\n",
        "ANS. Strings are immutable for performance. They can be reused in memory, reducing memory usage and preventing unintended changes."
      ],
      "metadata": {
        "id": "y8pPxy79cSLL"
      }
    },
    {
      "cell_type": "markdown",
      "source": [
        "Q11. What advantages do dictionaries offer over lists for certain tasks?\n",
        "\n",
        "ANS. A list can store any data type. In comparison, keys in the dictionary can be of any immutable data type, and values can be of any data type.\n",
        "\n",
        "Lists perform faster for ordered operations like sorting, while dictionaries perform faster for lookup operations."
      ],
      "metadata": {
        "id": "OmwBAzLGcn-J"
      }
    },
    {
      "cell_type": "markdown",
      "source": [
        "Q12. Describe a scenario where using a tuple would be preferable over a list\n",
        "\n",
        "ANS. When storing coordinates or fixed configuration data, tuples are better because they are immutable and protect data from modification."
      ],
      "metadata": {
        "id": "83lA0UIXdnOI"
      }
    },
    {
      "cell_type": "markdown",
      "source": [
        "Q13.  How do sets handle duplicate values in Python?\n",
        "\n",
        "ANS. Sets automatically remove duplicates.\n",
        "\n",
        "For example,\n",
        "\n",
        "set= ({1, 2, 2, 3]})\n",
        "results =  {1, 2, 3}."
      ],
      "metadata": {
        "id": "Ib9bsi8OeD1Y"
      }
    },
    {
      "cell_type": "markdown",
      "source": [
        "Q14. How does the “in” keyword work differently for lists and dictionaries\n",
        "\n",
        "ANS. Lists: 'in' checks each element sequentially.\n",
        "\n",
        "Dictionaries: 'in' checks keys using the hash table, making it faster."
      ],
      "metadata": {
        "id": "KGWRi0kjefEo"
      }
    },
    {
      "cell_type": "markdown",
      "source": [
        "Q15. Can you modify the elements of a tuple? Explain why or why not\n",
        "\n",
        "ANS. No, tuples are immutable, so elements cannot be modified. This ensures data integrity and consistency."
      ],
      "metadata": {
        "id": "cr5qfsCpezqA"
      }
    },
    {
      "cell_type": "markdown",
      "source": [
        "Q16. What is a nested dictionary, and give an example of its use case?\n",
        "\n",
        "ANS. A nested dictionary is a dictionary within another dictionary.\n",
        "\n",
        "USE CASE:\n",
        "students = {\"Ajay\": {\"math\": 70, \"science\": 80},\n",
        "    \"Bijay\": {\"math\": 80, \"science\": 90},}\n",
        "    "
      ],
      "metadata": {
        "id": "owPNuMQOf8O-"
      }
    },
    {
      "cell_type": "markdown",
      "source": [
        "Q17. Describe the time complexity of accessing elements in a dictionary\n",
        "\n",
        "ANS. Accessing elements in a dictionary has an average time complexity of O(1) due to hash table implementation."
      ],
      "metadata": {
        "id": "V3qkhzKEgrpi"
      }
    },
    {
      "cell_type": "markdown",
      "source": [
        "Q18. In what situations are lists preferred over dictionaries?\n",
        "\n",
        "ANS. Lists are better when:\n",
        "Order matters\n",
        "The data is sequential or indexed numerically\n",
        "No key-value mapping is needed"
      ],
      "metadata": {
        "id": "gERAtr0AhCIq"
      }
    },
    {
      "cell_type": "markdown",
      "source": [
        "Q19. Why are dictionaries considered unordered, and how does that affect data retrieval?\n",
        "\n",
        "ANS. A dictionary is termed an unordered collection of objects because dictionaries do not maintain any inherent order of the items based on when they were added."
      ],
      "metadata": {
        "id": "INlx4ltKhUMy"
      }
    },
    {
      "cell_type": "markdown",
      "source": [
        "Q20.  Explain the difference between a list and a dictionary in terms of data retrieval\n",
        "\n",
        "ANS. List: access elements by index\n",
        "Dictionary: access elements by key offering more descriptive and flexible access.\n",
        "\n"
      ],
      "metadata": {
        "id": "LgUieIBvhww1"
      }
    },
    {
      "cell_type": "markdown",
      "source": [
        "# ***PRACTICAL QUESTIONS***"
      ],
      "metadata": {
        "id": "fN0yeeVGiAra"
      }
    },
    {
      "cell_type": "markdown",
      "source": [
        "Q1. Write a code to create a string with your name and print it\n"
      ],
      "metadata": {
        "id": "W8XfjXFOiGTS"
      }
    },
    {
      "cell_type": "code",
      "source": [
        "#Q1 Write a code to create a string with your name and print it\n",
        "\n",
        "a= 'mehak'\n",
        "for i in a:\n",
        "  print(i)"
      ],
      "metadata": {
        "colab": {
          "base_uri": "https://localhost:8080/"
        },
        "id": "aTKPhh7WjzGb",
        "outputId": "9eeacb1a-09ce-4887-c42c-ded1b59ff685"
      },
      "execution_count": null,
      "outputs": [
        {
          "output_type": "stream",
          "name": "stdout",
          "text": [
            "m\n",
            "e\n",
            "h\n",
            "a\n",
            "k\n"
          ]
        }
      ]
    },
    {
      "cell_type": "code",
      "source": [
        "#Q2 Write a code to find the length of the string \"Hello World\"\n",
        "\n",
        "a = \"Hello World\"\n",
        "print(len(a))"
      ],
      "metadata": {
        "colab": {
          "base_uri": "https://localhost:8080/"
        },
        "id": "GceAS798kKtJ",
        "outputId": "dfd5f489-1cb9-458b-a689-627447a1612e"
      },
      "execution_count": null,
      "outputs": [
        {
          "output_type": "stream",
          "name": "stdout",
          "text": [
            "11\n"
          ]
        }
      ]
    },
    {
      "cell_type": "code",
      "source": [
        "#Q3Write a code to slice the first 3 characters from the string \"Python Programming\"\n",
        "\n",
        "a = \"Python Programming\"\n",
        "print(a[0:3])"
      ],
      "metadata": {
        "colab": {
          "base_uri": "https://localhost:8080/"
        },
        "id": "BMsp4OzLkT_y",
        "outputId": "562b6e47-8cbf-4944-d508-912a5895d90a"
      },
      "execution_count": null,
      "outputs": [
        {
          "output_type": "stream",
          "name": "stdout",
          "text": [
            "Pyt\n"
          ]
        }
      ]
    },
    {
      "cell_type": "code",
      "source": [
        "#Q4 Write a code to convert the string \"hello\" to uppercase\n",
        "\n",
        "a = \"hello\"\n",
        "print(a.upper())"
      ],
      "metadata": {
        "colab": {
          "base_uri": "https://localhost:8080/"
        },
        "id": "pE1kEW79kd0-",
        "outputId": "aa2d374e-270a-420a-93f7-bf536b63a7e8"
      },
      "execution_count": null,
      "outputs": [
        {
          "output_type": "stream",
          "name": "stdout",
          "text": [
            "HELLO\n"
          ]
        }
      ]
    },
    {
      "cell_type": "code",
      "source": [
        "#Q5 Write a code to replace the word \"apple\" with \"orange\" in the string \"I like apple\"\n",
        "\n",
        "a = \"I like apple\"\n",
        "print(a.replace(\"apple\", \"orange\"))"
      ],
      "metadata": {
        "colab": {
          "base_uri": "https://localhost:8080/"
        },
        "id": "CHUvAYVxklYt",
        "outputId": "5d9922e0-33cc-4136-87a1-95f15bf51019"
      },
      "execution_count": null,
      "outputs": [
        {
          "output_type": "stream",
          "name": "stdout",
          "text": [
            "I like orange\n"
          ]
        }
      ]
    },
    {
      "cell_type": "code",
      "source": [
        "#Q6 Write a code to create a list with numbers 1 to 5 and print it\n",
        "\n",
        "numbers = [1, 2, 3, 4, 5]\n",
        "print(numbers)"
      ],
      "metadata": {
        "colab": {
          "base_uri": "https://localhost:8080/"
        },
        "id": "dzpW91Eck2FT",
        "outputId": "8d14bd9e-ee5f-4678-d9b2-4f239e8268d4"
      },
      "execution_count": null,
      "outputs": [
        {
          "output_type": "stream",
          "name": "stdout",
          "text": [
            "[1, 2, 3, 4, 5]\n"
          ]
        }
      ]
    },
    {
      "cell_type": "code",
      "source": [
        "#Q7 Write a code to append the number 10 to the list [1, 2, 3, 4]\n",
        "\n",
        "numbers = [1, 2, 3, 4]\n",
        "numbers.append(10)\n",
        "print(numbers)"
      ],
      "metadata": {
        "colab": {
          "base_uri": "https://localhost:8080/"
        },
        "id": "Gb7vCZfZl20P",
        "outputId": "b8224021-cb44-4aa8-d6b7-85ccf0b1e5a6"
      },
      "execution_count": null,
      "outputs": [
        {
          "output_type": "stream",
          "name": "stdout",
          "text": [
            "[1, 2, 3, 4, 10]\n"
          ]
        }
      ]
    },
    {
      "cell_type": "code",
      "source": [
        "#Q8 Write a code to remove the number 3 from the list [1, 2, 3, 4, 5]\n",
        "numbers = [1, 2, 3, 4, 5]\n",
        "numbers.remove(3)\n",
        "print(numbers)\n"
      ],
      "metadata": {
        "colab": {
          "base_uri": "https://localhost:8080/"
        },
        "id": "nxzvJthAl-Zg",
        "outputId": "7e3b6791-e64b-42f7-f160-50be29dc3ab5"
      },
      "execution_count": null,
      "outputs": [
        {
          "output_type": "stream",
          "name": "stdout",
          "text": [
            "[1, 2, 4, 5]\n"
          ]
        }
      ]
    },
    {
      "cell_type": "code",
      "source": [
        "#Q9 Write a code to access the second element in the list ['a', 'b', 'c', 'd']\n",
        "\n",
        "list = ['a', 'b', 'c', 'd']\n",
        "list[1]"
      ],
      "metadata": {
        "colab": {
          "base_uri": "https://localhost:8080/",
          "height": 35
        },
        "id": "sGn5-9MomJhH",
        "outputId": "a37378da-ec3f-4a10-8cbc-ab8c9941b4c2"
      },
      "execution_count": null,
      "outputs": [
        {
          "output_type": "execute_result",
          "data": {
            "text/plain": [
              "'b'"
            ],
            "application/vnd.google.colaboratory.intrinsic+json": {
              "type": "string"
            }
          },
          "metadata": {},
          "execution_count": 17
        }
      ]
    },
    {
      "cell_type": "code",
      "source": [
        "#Q10 Write a code to reverse the list [10, 20, 30, 40, 50]\n",
        "\n",
        "list = [10, 20, 30, 40, 50]\n",
        "list.reverse()\n",
        "print(list)\n"
      ],
      "metadata": {
        "colab": {
          "base_uri": "https://localhost:8080/"
        },
        "id": "zzmmGJvwmirH",
        "outputId": "68a24f64-b40c-499b-93e1-7a60b21682e2"
      },
      "execution_count": null,
      "outputs": [
        {
          "output_type": "stream",
          "name": "stdout",
          "text": [
            "[50, 40, 30, 20, 10]\n"
          ]
        }
      ]
    },
    {
      "cell_type": "code",
      "source": [
        "#Q11 Write a code to create a tuple with the elements 10, 20, 30 and print it\n",
        "\n",
        "tuple = (10, 20, 30)\n",
        "print(tuple)"
      ],
      "metadata": {
        "colab": {
          "base_uri": "https://localhost:8080/"
        },
        "id": "mIMEoF6mmtZ9",
        "outputId": "9c001f23-6c12-4cd3-f99f-a24bd99e37aa"
      },
      "execution_count": null,
      "outputs": [
        {
          "output_type": "stream",
          "name": "stdout",
          "text": [
            "(10, 20, 30)\n"
          ]
        }
      ]
    },
    {
      "cell_type": "code",
      "source": [
        "#Q12 Write a code to access the first element of the tuple ('apple', 'banana', 'cherry').\n",
        "\n",
        "tuple = ('apple', 'banana', 'cherry')\n",
        "tuple[0]\n"
      ],
      "metadata": {
        "colab": {
          "base_uri": "https://localhost:8080/",
          "height": 35
        },
        "id": "EFFKwCMwnEvl",
        "outputId": "71e37e9b-9794-48df-e591-5de4a3092f25"
      },
      "execution_count": null,
      "outputs": [
        {
          "output_type": "execute_result",
          "data": {
            "text/plain": [
              "'apple'"
            ],
            "application/vnd.google.colaboratory.intrinsic+json": {
              "type": "string"
            }
          },
          "metadata": {},
          "execution_count": 21
        }
      ]
    },
    {
      "cell_type": "code",
      "source": [
        "#Q13 Write a code to count how many times the number 2 appears in the tuple (1, 2, 3, 2, 4, 2)\n",
        "\n",
        "tuple = (1, 2, 3, 2, 4, 2)\n",
        "tuple.count(2)"
      ],
      "metadata": {
        "colab": {
          "base_uri": "https://localhost:8080/"
        },
        "id": "zOtwqTW2nPHT",
        "outputId": "a3bc50a5-17b9-4337-b759-a9308c61328e"
      },
      "execution_count": null,
      "outputs": [
        {
          "output_type": "execute_result",
          "data": {
            "text/plain": [
              "3"
            ]
          },
          "metadata": {},
          "execution_count": 22
        }
      ]
    },
    {
      "cell_type": "code",
      "source": [
        "#Q14 Write a code to find the index of the element \"cat\" in the tuple ('dog', 'cat', 'rabbit')\n",
        "\n",
        "tuple = ('dog', 'cat', 'rabbit')\n",
        "tuple.index('cat')"
      ],
      "metadata": {
        "colab": {
          "base_uri": "https://localhost:8080/"
        },
        "id": "P5o3oK9-nXqx",
        "outputId": "1aef31d7-6c07-4c1e-ef60-58fb3e793552"
      },
      "execution_count": null,
      "outputs": [
        {
          "output_type": "execute_result",
          "data": {
            "text/plain": [
              "1"
            ]
          },
          "metadata": {},
          "execution_count": 23
        }
      ]
    },
    {
      "cell_type": "code",
      "source": [
        "#Q15 Write a code to check if the element \"banana\" is in the tuple ('apple', 'orange', 'banana')\n",
        "\n",
        "Fruits = ('apple', 'orange', 'banana')\n",
        "if 'banana' in Fruits:\n",
        "  print(\"banana is in the Fruits\")\n",
        "else:\n",
        "  print(\"banana is not in the Fruits\")"
      ],
      "metadata": {
        "colab": {
          "base_uri": "https://localhost:8080/"
        },
        "id": "p7qlDGpHnlpq",
        "outputId": "582b26fc-4a42-4ea8-d4d3-770993265069"
      },
      "execution_count": null,
      "outputs": [
        {
          "output_type": "stream",
          "name": "stdout",
          "text": [
            "banana is in the Fruits\n"
          ]
        }
      ]
    },
    {
      "cell_type": "code",
      "source": [
        "#Q16 Write a code to create a set with the elements 1, 2, 3, 4, 5 and print it.\n",
        "\n",
        "Numbers = {1, 2, 3, 4, 5}\n",
        "print(Numbers)"
      ],
      "metadata": {
        "colab": {
          "base_uri": "https://localhost:8080/"
        },
        "id": "AnevvhULn6tG",
        "outputId": "2b89883c-8e31-4328-ac61-989da6a3930d"
      },
      "execution_count": null,
      "outputs": [
        {
          "output_type": "stream",
          "name": "stdout",
          "text": [
            "{1, 2, 3, 4, 5}\n"
          ]
        }
      ]
    },
    {
      "cell_type": "code",
      "source": [
        "#Q17  Write a code to add the element 6 to the set {1, 2, 3, 4\n",
        "numbers = {1,2,3,4}\n",
        "numbers.add(6)\n",
        "print(numbers)"
      ],
      "metadata": {
        "colab": {
          "base_uri": "https://localhost:8080/"
        },
        "id": "L_BxGWm8oRbR",
        "outputId": "bd2eeca5-b217-4818-bf95-f4ef982d1d1a"
      },
      "execution_count": 28,
      "outputs": [
        {
          "output_type": "stream",
          "name": "stdout",
          "text": [
            "{1, 2, 3, 4, 6}\n"
          ]
        }
      ]
    }
  ]
}